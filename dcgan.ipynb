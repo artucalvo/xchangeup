{
  "nbformat": 4,
  "nbformat_minor": 0,
  "metadata": {
    "colab": {
      "name": "dcgan.ipynb",
      "version": "0.3.2",
      "provenance": [],
      "collapsed_sections": []
    },
    "kernelspec": {
      "name": "python3",
      "display_name": "Python 3"
    },
    "accelerator": "GPU"
  },
  "cells": [
    {
      "metadata": {
        "id": "mF2tA7Mr_iV4",
        "colab_type": "text"
      },
      "cell_type": "markdown",
      "source": [
        "**INSTALL LUA**"
      ]
    },
    {
      "metadata": {
        "id": "qmNEIF7wqPr3",
        "colab_type": "code",
        "colab": {}
      },
      "cell_type": "code",
      "source": [
        "cd /content"
      ],
      "execution_count": 0,
      "outputs": []
    },
    {
      "metadata": {
        "id": "EtCFX8VmqMGH",
        "colab_type": "code",
        "colab": {}
      },
      "cell_type": "code",
      "source": [
        "!curl -R -O http://www.lua.org/ftp/lua-5.3.5.tar.gz\n",
        "!tar zxf lua-5.3.5.tar.gz"
      ],
      "execution_count": 0,
      "outputs": []
    },
    {
      "metadata": {
        "id": "TQqLQ2Lpqd6_",
        "colab_type": "code",
        "colab": {}
      },
      "cell_type": "code",
      "source": [
        "cd lua-5.3.5"
      ],
      "execution_count": 0,
      "outputs": []
    },
    {
      "metadata": {
        "id": "oI8J8zTsqivQ",
        "colab_type": "code",
        "colab": {}
      },
      "cell_type": "code",
      "source": [
        "!make linux test\n",
        "!make install"
      ],
      "execution_count": 0,
      "outputs": []
    },
    {
      "metadata": {
        "id": "7n1x7T5w_cxk",
        "colab_type": "text"
      },
      "cell_type": "markdown",
      "source": [
        "**INSTALL TORCH**"
      ]
    },
    {
      "metadata": {
        "id": "KDgkA6hLK0Ke",
        "colab_type": "code",
        "colab": {}
      },
      "cell_type": "code",
      "source": [
        "!git clone https://github.com/nagadomi/distro.git /content/torch --recursive"
      ],
      "execution_count": 0,
      "outputs": []
    },
    {
      "metadata": {
        "id": "Ajnhzs7ZLJF6",
        "colab_type": "code",
        "colab": {}
      },
      "cell_type": "code",
      "source": [
        "cd /content/torch"
      ],
      "execution_count": 0,
      "outputs": []
    },
    {
      "metadata": {
        "id": "TqHoEyPQLMqh",
        "colab_type": "code",
        "colab": {}
      },
      "cell_type": "code",
      "source": [
        "!./clean.sh\n",
        "!./update.sh"
      ],
      "execution_count": 0,
      "outputs": []
    },
    {
      "metadata": {
        "id": "Ia2G90z4_l7j",
        "colab_type": "text"
      },
      "cell_type": "markdown",
      "source": [
        "**INSTALL LUAROCKS**"
      ]
    },
    {
      "metadata": {
        "id": "_MQMSB1bpXS9",
        "colab_type": "code",
        "colab": {}
      },
      "cell_type": "code",
      "source": [
        "cd /content"
      ],
      "execution_count": 0,
      "outputs": []
    },
    {
      "metadata": {
        "id": "zdWd6KJAIQ8W",
        "colab_type": "code",
        "colab": {}
      },
      "cell_type": "code",
      "source": [
        "!wget https://luarocks.org/releases/luarocks-3.0.4.tar.gz\n",
        "!tar zxpf luarocks-3.0.4.tar.gz"
      ],
      "execution_count": 0,
      "outputs": []
    },
    {
      "metadata": {
        "id": "0ltEt_xbpleU",
        "colab_type": "code",
        "colab": {}
      },
      "cell_type": "code",
      "source": [
        "cd /content/luarocks-3.0.4"
      ],
      "execution_count": 0,
      "outputs": []
    },
    {
      "metadata": {
        "id": "8m7i42JapDTK",
        "colab_type": "code",
        "colab": {}
      },
      "cell_type": "code",
      "source": [
        "!./configure\n",
        "!sudo make bootstrap\n",
        "!sudo luarocks install luasocket"
      ],
      "execution_count": 0,
      "outputs": []
    },
    {
      "metadata": {
        "id": "A6E8gIxrAu6-",
        "colab_type": "text"
      },
      "cell_type": "markdown",
      "source": [
        "**INSTALL DCGAN**"
      ]
    },
    {
      "metadata": {
        "id": "sbby7zx1zxLk",
        "colab_type": "code",
        "colab": {}
      },
      "cell_type": "code",
      "source": [
        "cd /content"
      ],
      "execution_count": 0,
      "outputs": []
    },
    {
      "metadata": {
        "id": "D6HiUc1Q8FZc",
        "colab_type": "code",
        "colab": {}
      },
      "cell_type": "code",
      "source": [
        "!git clone https://github.com/artucalvo/dcgan.git /content/dcgan"
      ],
      "execution_count": 0,
      "outputs": []
    },
    {
      "metadata": {
        "id": "nFp2KDa0AVWV",
        "colab_type": "code",
        "colab": {}
      },
      "cell_type": "code",
      "source": [
        "cd /content/dcgan"
      ],
      "execution_count": 0,
      "outputs": []
    },
    {
      "metadata": {
        "id": "L-8hBRysBA34",
        "colab_type": "text"
      },
      "cell_type": "markdown",
      "source": [
        "**RUN DCGAN ON PRETRAINED MODEL**\n",
        "\n",
        "Make sure you have copied into your Google Drive account the following files, and use the correct the path to each one in the \"net\" argument:\n",
        "\n",
        "*   https://drive.google.com/file/d/0B-_m9VM1w1bKUFBmV09VOWlmNG8\n",
        "*   https://drive.google.com/file/d/0B-_m9VM1w1bKUXhmazg2eVF0bTA"
      ]
    },
    {
      "metadata": {
        "id": "PKJb7fibNzV7",
        "colab_type": "code",
        "colab": {}
      },
      "cell_type": "code",
      "source": [
        "from google.colab import drive\n",
        "drive.mount('/content/drive')"
      ],
      "execution_count": 0,
      "outputs": []
    },
    {
      "metadata": {
        "id": "OSzjBXPV8Vx-",
        "colab_type": "code",
        "colab": {}
      },
      "cell_type": "code",
      "source": [
        "!net='/content/drive/My Drive/WORKSPACE/DCGAN/portrait_G.t7' batchSize=12 imsize=1 /content/torch/install/bin/th generate.lua"
      ],
      "execution_count": 0,
      "outputs": []
    },
    {
      "metadata": {
        "id": "uXkc-gGKUKOT",
        "colab_type": "code",
        "colab": {}
      },
      "cell_type": "code",
      "source": [
        "!net='/content/drive/My Drive/WORKSPACE/DCGAN/landscapes_G.t7' batchSize=12 imsize=1 /content/torch/install/bin/th generate.lua"
      ],
      "execution_count": 0,
      "outputs": []
    },
    {
      "metadata": {
        "id": "S5utDaZ7FiVr",
        "colab_type": "text"
      },
      "cell_type": "markdown",
      "source": [
        "**TRAIN A NEW NETWORK**"
      ]
    },
    {
      "metadata": {
        "id": "V0Dm_XCmFvGz",
        "colab_type": "text"
      },
      "cell_type": "markdown",
      "source": [
        "1 - Download dataset"
      ]
    },
    {
      "metadata": {
        "id": "YeglhVvnGBBF",
        "colab_type": "code",
        "colab": {}
      },
      "cell_type": "code",
      "source": [
        "cd /content"
      ],
      "execution_count": 0,
      "outputs": []
    },
    {
      "metadata": {
        "id": "5Ei-0Y2NFpid",
        "colab_type": "code",
        "colab": {}
      },
      "cell_type": "code",
      "source": [
        "!wget www.lamsade.dauphine.fr/~bnegrevergne/webpage/software/rasta/wikipaintings_full.tgz\n",
        "!tar -xvzf wikipaintings_full.tgz"
      ],
      "execution_count": 0,
      "outputs": []
    },
    {
      "metadata": {
        "id": "SdwZQ-KkFyq0",
        "colab_type": "text"
      },
      "cell_type": "markdown",
      "source": [
        "2 - Train the network"
      ]
    },
    {
      "metadata": {
        "id": "25Ozq_uMUgOj",
        "colab_type": "code",
        "colab": {}
      },
      "cell_type": "code",
      "source": [
        "cd /content/dcgan"
      ],
      "execution_count": 0,
      "outputs": []
    },
    {
      "metadata": {
        "id": "a5e6ApXuFtIs",
        "colab_type": "code",
        "colab": {
          "base_uri": "https://localhost:8080/",
          "height": 578
        },
        "outputId": "48953bb5-6ec0-4f2c-c8b5-2479a5afe828"
      },
      "cell_type": "code",
      "source": [
        "!DATA_ROOT=/content/wikipaintings_full/wikipaintings_train dataset=folder niter=10 ndf=50 ngf=100 batchSize=64 name=abstract display=0 /content/torch/install/bin/th main.lua"
      ],
      "execution_count": 0,
      "outputs": [
        {
          "output_type": "stream",
          "text": [
            "\u001b[0mEpoch: [8][     485 /     1039]\t Time: 1.042  DataTime: 0.569    Err_G: 0.1342  Err_D: 2.7479\u001b[0m\t\n",
            "\u001b[0mEpoch: [8][     486 /     1039]\t Time: 1.517  DataTime: 1.054    Err_G: 7.6360  Err_D: 0.2973\u001b[0m\t\n",
            "\u001b[0mEpoch: [8][     487 /     1039]\t Time: 1.092  DataTime: 0.615    Err_G: 7.6929  Err_D: 0.9139\u001b[0m\t\n",
            "\u001b[0mEpoch: [8][     488 /     1039]\t Time: 0.804  DataTime: 0.018    Err_G: 1.0012  Err_D: 0.8383\u001b[0m\t\n",
            "\u001b[0mEpoch: [8][     489 /     1039]\t Time: 0.825  DataTime: 0.103    Err_G: 4.7301  Err_D: 0.2766\u001b[0m\t\n",
            "\u001b[0mEpoch: [8][     490 /     1039]\t Time: 2.894  DataTime: 2.414    Err_G: 4.2559  Err_D: 0.4262\u001b[0m\t\n",
            "\u001b[0mEpoch: [8][     491 /     1039]\t Time: 0.815  DataTime: 0.330    Err_G: 1.0682  Err_D: 0.6888\u001b[0m\t\n",
            "\u001b[0mEpoch: [8][     492 /     1039]\t Time: 1.059  DataTime: 0.594    Err_G: 4.5968  Err_D: 0.1170\u001b[0m\t\n",
            "\u001b[0mEpoch: [8][     493 /     1039]\t Time: 0.806  DataTime: 0.043    Err_G: 4.4018  Err_D: 0.2701\u001b[0m\t\n",
            "\u001b[0mEpoch: [8][     494 /     1039]\t Time: 1.954  DataTime: 1.503    Err_G: 2.1105  Err_D: 0.4248\u001b[0m\t\n",
            "\u001b[0mEpoch: [8][     495 /     1039]\t Time: 0.809  DataTime: 0.001    Err_G: 2.6285  Err_D: 0.1880\u001b[0m\t\n",
            "\u001b[0mEpoch: [8][     496 /     1039]\t Time: 2.049  DataTime: 1.591    Err_G: 2.1625  Err_D: 0.3438\u001b[0m\t\n",
            "\u001b[0mEpoch: [8][     497 /     1039]\t Time: 0.816  DataTime: 0.001    Err_G: 2.6154  Err_D: 0.8323\u001b[0m\t\n",
            "\u001b[0mEpoch: [8][     498 /     1039]\t Time: 0.796  DataTime: 0.013    Err_G: 1.1046  Err_D: 0.6055\u001b[0m\t\n",
            "\u001b[0mEpoch: [8][     499 /     1039]\t Time: 1.330  DataTime: 0.866    Err_G: 4.5233  Err_D: 0.7612\u001b[0m\t\n",
            "\u001b[0mEpoch: [8][     500 /     1039]\t Time: 2.487  DataTime: 2.014    Err_G: 1.7536  Err_D: 0.3349\u001b[0m\t\n",
            "\u001b[0mEpoch: [8][     501 /     1039]\t Time: 0.827  DataTime: 0.001    Err_G: 2.7032  Err_D: 0.2170\u001b[0m\t\n",
            "\u001b[0mEpoch: [8][     502 /     1039]\t Time: 0.812  DataTime: 0.014    Err_G: 3.1376  Err_D: 0.1656\u001b[0m\t\n",
            "\u001b[0mEpoch: [8][     503 /     1039]\t Time: 0.805  DataTime: 0.001    Err_G: 2.9313  Err_D: 0.6768\u001b[0m\t\n",
            "\u001b[0mEpoch: [8][     504 /     1039]\t Time: 2.231  DataTime: 1.768    Err_G: 0.6665  Err_D: 1.0576\u001b[0m\t\n",
            "\u001b[0mEpoch: [8][     505 /     1039]\t Time: 1.470  DataTime: 0.987    Err_G: 5.4822  Err_D: 0.3824\u001b[0m\t\n",
            "\u001b[0mEpoch: [8][     506 /     1039]\t Time: 0.811  DataTime: 0.015    Err_G: 3.8708  Err_D: 0.2030\u001b[0m\t\n",
            "\u001b[0mEpoch: [8][     507 /     1039]\t Time: 1.440  DataTime: 0.979    Err_G: 2.5315  Err_D: 0.2022\u001b[0m\t\n",
            "\u001b[0mEpoch: [8][     508 /     1039]\t Time: 1.785  DataTime: 1.319    Err_G: 2.5348  Err_D: 0.1490\u001b[0m\t\n",
            "\u001b[0mEpoch: [8][     509 /     1039]\t Time: 0.797  DataTime: 0.291    Err_G: 2.3210  Err_D: 0.4281\u001b[0m\t\n",
            "\u001b[0mEpoch: [8][     510 /     1039]\t Time: 1.984  DataTime: 1.500    Err_G: 3.0164  Err_D: 0.1960\u001b[0m\t\n",
            "\u001b[0mEpoch: [8][     511 /     1039]\t Time: 0.792  DataTime: 0.001    Err_G: 3.4552  Err_D: 0.3974\u001b[0m\t\n",
            "\u001b[0mEpoch: [8][     512 /     1039]\t Time: 0.808  DataTime: 0.001    Err_G: 0.7430  Err_D: 0.9909\u001b[0m\t\n",
            "\u001b[0mEpoch: [8][     513 /     1039]\t Time: 0.957  DataTime: 0.507    Err_G: 6.7453  Err_D: 1.3180\u001b[0m\t\n",
            "\u001b[0mEpoch: [8][     514 /     1039]\t Time: 2.253  DataTime: 1.784    Err_G: 1.6804  Err_D: 0.4310\u001b[0m\t\n",
            "\u001b[0mEpoch: [8][     515 /     1039]\t Time: 1.294  DataTime: 0.821    Err_G: 2.6067  Err_D: 0.1773\u001b[0m\t\n",
            "\u001b[0mEpoch: [8][     516 /     1039]\t Time: 0.798  DataTime: 0.292    Err_G: 3.0755  Err_D: 0.1893\u001b[0m\t\n",
            "\u001b[0mEpoch: [8][     517 /     1039]\t Time: 2.099  DataTime: 1.630    Err_G: 2.4628  Err_D: 0.3290\u001b[0m\t\n"
          ],
          "name": "stdout"
        }
      ]
    },
    {
      "metadata": {
        "id": "0g7ELyk8HI-Q",
        "colab_type": "text"
      },
      "cell_type": "markdown",
      "source": [
        "3 - Run the algorithm on the new trained model"
      ]
    },
    {
      "metadata": {
        "id": "HMIqptRaG49d",
        "colab_type": "code",
        "colab": {}
      },
      "cell_type": "code",
      "source": [
        "!net=/content/dcgan/checkpoints/abstract.t7 batchSize=1 imsize=50 /content/torch/install/bin/th generate.lua"
      ],
      "execution_count": 0,
      "outputs": []
    }
  ]
}